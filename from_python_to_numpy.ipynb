{
 "cells": [
  {
   "cell_type": "markdown",
   "id": "3689fc5b-07a6-4a73-b778-f8d1b3023ac3",
   "metadata": {},
   "source": [
    "# From Python to Numpy"
   ]
  },
  {
   "cell_type": "markdown",
   "id": "34446c99-7a1f-425e-92fb-f6c6f9cd5775",
   "metadata": {},
   "source": [
    "indexing vs fancy indexing"
   ]
  },
  {
   "cell_type": "code",
   "execution_count": 11,
   "id": "6000e55a-1782-453c-906d-e26b2844fc56",
   "metadata": {
    "tags": []
   },
   "outputs": [
    {
     "data": {
      "text/plain": [
       "array([1., 1., 1., 0., 0., 0., 0., 0., 0.])"
      ]
     },
     "execution_count": 11,
     "metadata": {},
     "output_type": "execute_result"
    }
   ],
   "source": [
    "import numpy as np\n",
    "\n",
    "# indexing\n",
    "Z = np.zeros(9)\n",
    "Z_view = Z[:3]\n",
    "Z[:3][...] = 1\n",
    "Z\n",
    "\n",
    "# fancy indexing\n",
    "# Z = np.zeros(9)\n",
    "# Z_copy = Z[[0,1,2]]\n",
    "# Z_copy[...] = 1\n",
    "# Z"
   ]
  },
  {
   "cell_type": "code",
   "execution_count": 13,
   "id": "28bae85f-1952-4e26-b30c-9c0e2b8e575b",
   "metadata": {
    "tags": []
   },
   "outputs": [
    {
     "data": {
      "text/plain": [
       "array([1., 1., 1., 0., 0., 0., 0., 0., 0.])"
      ]
     },
     "execution_count": 13,
     "metadata": {},
     "output_type": "execute_result"
    }
   ],
   "source": [
    "Z_view.base"
   ]
  },
  {
   "cell_type": "code",
   "execution_count": 14,
   "id": "76f5841f-cf57-4138-a0df-76fa9e0cb5d7",
   "metadata": {
    "tags": []
   },
   "outputs": [
    {
     "data": {
      "text/plain": [
       "array([1., 1., 1., 0., 0., 0., 0., 0., 0.])"
      ]
     },
     "execution_count": 14,
     "metadata": {},
     "output_type": "execute_result"
    }
   ],
   "source": [
    "Z"
   ]
  },
  {
   "cell_type": "code",
   "execution_count": 15,
   "id": "f1f8f97a-ccb0-4ce8-bd69-4eb5ccd2481e",
   "metadata": {
    "tags": []
   },
   "outputs": [],
   "source": [
    "Z_copy.base"
   ]
  },
  {
   "cell_type": "markdown",
   "id": "1d774e90-47aa-4f41-a72d-874473a69f14",
   "metadata": {},
   "source": [
    "## Code Vectorization"
   ]
  },
  {
   "cell_type": "code",
   "execution_count": 18,
   "id": "a0576f39-f9f1-4a53-a2e0-f273f8627865",
   "metadata": {
    "tags": []
   },
   "outputs": [
    {
     "name": "stdout",
     "output_type": "stream",
     "text": [
      "1.37 µs ± 8.61 ns per loop (mean ± std. dev. of 7 runs, 1,000,000 loops each)\n"
     ]
    }
   ],
   "source": [
    "%%timeit\n",
    "def add_python(Z1,Z2):\n",
    "    return [z1+z2 for (z1,z2) in zip(Z1,Z2)]\n",
    "\n",
    "def add_numpy(z1, z2):\n",
    "    return np.add(z1, z2)\n",
    "\n",
    "z1 = z2 = [1, 2, 3]\n",
    "add_numpy(z1, z2)"
   ]
  },
  {
   "cell_type": "code",
   "execution_count": 20,
   "id": "dba599cc-c645-4604-a1de-342f1c238b41",
   "metadata": {
    "tags": []
   },
   "outputs": [
    {
     "name": "stdout",
     "output_type": "stream",
     "text": [
      "270 ns ± 4.36 ns per loop (mean ± std. dev. of 7 runs, 1,000,000 loops each)\n"
     ]
    }
   ],
   "source": [
    "%%timeit\n",
    "z1 = z2 = [1, 2, 3]\n",
    "add_python(z1, z2)"
   ]
  },
  {
   "cell_type": "markdown",
   "id": "a5a60ffc-8c2c-49b5-a6e8-478685506c1a",
   "metadata": {},
   "source": [
    "### Uniform Vectorization\n",
    "all elements share the same computation at every time step with no specific processing for any element\n",
    "\n",
    "The Game of Life\n",
    "---\n",
    "1. Any live cell with fewer than two live neighbours dies, as if by needs caused by underpopulation.\n",
    "2. Any live cell with more than three live neighbours dies, as if by overcrowding.\n",
    "3. Any live cell with two or three live neighbours lives, unchanged, to the next generation.\n",
    "4. Any dead cell with exactly three live neighbours becomes a live cell.\n"
   ]
  },
  {
   "cell_type": "code",
   "execution_count": 33,
   "id": "ea88eff5-1584-4e75-a49f-04fce3761b5f",
   "metadata": {
    "tags": []
   },
   "outputs": [],
   "source": [
    "# the game of life\n",
    "\n",
    "Z = np.random.choice(\n",
    "    [1, 0], size=(6,6), p=[.5, .5]\n",
    ")\n",
    "Z"
   ]
  },
  {
   "cell_type": "code",
   "execution_count": 43,
   "id": "4b0ed147-42fd-4b74-9c9f-dc2096d9bb42",
   "metadata": {
    "tags": []
   },
   "outputs": [
    {
     "name": "stdout",
     "output_type": "stream",
     "text": [
      "[-1  1  0  1  0  1]\n",
      "[1 0 1 0 1 1]\n",
      "[ 0  1  0  1  1 -1]\n"
     ]
    }
   ],
   "source": [
    "def compute_neighbors(Z):\n",
    "    pass\n",
    "\n",
    "ZZ = np.full(len(Z) + 2, -1)\n",
    "ZZ[1:-1] = Z\n",
    "print(ZZ[:-2])\n",
    "print(ZZ[1:-1])\n",
    "print(ZZ[2:])\n",
    "\n",
    "# 1. Any live cell with fewer than two live neighbours \n",
    "# dies, as if by needs caused by underpopulation.\n",
    "\n",
    "\n",
    "# 2. Any live cell with more than three live \n",
    "# neighbours dies, as if by overcrowding.\n",
    "\n",
    "# 3. Any live cell with two or three live \n",
    "# neighbours lives, unchanged, to the next generation.\n",
    "\n",
    "# 4. 4. Any dead cell with exactly three live \n",
    "# neighbours becomes a live cell."
   ]
  }
 ],
 "metadata": {
  "kernelspec": {
   "display_name": "Python 3 (ipykernel)",
   "language": "python",
   "name": "python3"
  },
  "language_info": {
   "codemirror_mode": {
    "name": "ipython",
    "version": 3
   },
   "file_extension": ".py",
   "mimetype": "text/x-python",
   "name": "python",
   "nbconvert_exporter": "python",
   "pygments_lexer": "ipython3",
   "version": "3.10.9"
  }
 },
 "nbformat": 4,
 "nbformat_minor": 5
}
